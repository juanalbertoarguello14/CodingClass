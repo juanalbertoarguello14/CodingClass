{
  "nbformat": 4,
  "nbformat_minor": 0,
  "metadata": {
    "colab": {
      "name": "Print Escape characters comments.ipynb",
      "provenance": [],
      "include_colab_link": true
    },
    "kernelspec": {
      "name": "python3",
      "display_name": "Python 3"
    }
  },
  "cells": [
    {
      "cell_type": "markdown",
      "metadata": {
        "id": "view-in-github",
        "colab_type": "text"
      },
      "source": [
        "<a href=\"https://colab.research.google.com/github/juanalbertoarguello14/CodingClass/blob/main/Print_Escape_characters_comments.ipynb\" target=\"_parent\"><img src=\"https://colab.research.google.com/assets/colab-badge.svg\" alt=\"Open In Colab\"/></a>"
      ]
    },
    {
      "cell_type": "code",
      "metadata": {
        "colab": {
          "base_uri": "https://localhost:8080/"
        },
        "id": "UBvC8qYdo4QO",
        "outputId": "037cd9f6-4002-4544-e822-356d589de749"
      },
      "source": [
        "print('hello')\n",
        "print('there')"
      ],
      "execution_count": null,
      "outputs": [
        {
          "output_type": "stream",
          "text": [
            "hello\n",
            "there\n"
          ],
          "name": "stdout"
        }
      ]
    },
    {
      "cell_type": "code",
      "metadata": {
        "colab": {
          "base_uri": "https://localhost:8080/"
        },
        "id": "h8rO6ApSrUZm",
        "outputId": "84578fe2-8687-461a-baaf-5d801f373d91"
      },
      "source": [
        "print('Hello', end= '')\n",
        "print(' there')"
      ],
      "execution_count": null,
      "outputs": [
        {
          "output_type": "stream",
          "text": [
            "Hello there\n"
          ],
          "name": "stdout"
        }
      ]
    },
    {
      "cell_type": "code",
      "metadata": {
        "colab": {
          "base_uri": "https://localhost:8080/"
        },
        "id": "m1bOyXFZp7ww",
        "outputId": "48ea84fc-55cf-4321-c608-f341a636d978"
      },
      "source": [
        "print('hello\\nthere')"
      ],
      "execution_count": null,
      "outputs": [
        {
          "output_type": "stream",
          "text": [
            "hello\n",
            "there\n"
          ],
          "name": "stdout"
        }
      ]
    },
    {
      "cell_type": "code",
      "metadata": {
        "colab": {
          "base_uri": "https://localhost:8080/"
        },
        "id": "4DK1cti_qcDm",
        "outputId": "29b019cd-0789-433a-f864-fb6c80f7212b"
      },
      "source": [
        "print('What are you doing?\\nIm doing homework')"
      ],
      "execution_count": null,
      "outputs": [
        {
          "output_type": "stream",
          "text": [
            "What are you doing?\n",
            "Im doing homework\n"
          ],
          "name": "stdout"
        }
      ]
    },
    {
      "cell_type": "code",
      "metadata": {
        "colab": {
          "base_uri": "https://localhost:8080/"
        },
        "id": "__CqPyD-roLH",
        "outputId": "edd6d933-75bc-49bc-d8b5-cbde0bf36fc8"
      },
      "source": [
        "print('Hello\\tthere')"
      ],
      "execution_count": null,
      "outputs": [
        {
          "output_type": "stream",
          "text": [
            "Hello\tthere\n"
          ],
          "name": "stdout"
        }
      ]
    },
    {
      "cell_type": "code",
      "metadata": {
        "colab": {
          "base_uri": "https://localhost:8080/"
        },
        "id": "NCTRyY8Wrz84",
        "outputId": "381d1164-d661-4534-fc37-35f004b8a3f5"
      },
      "source": [
        "print('Yo', end= '')\n",
        "print(' bro\\twhat happened?')"
      ],
      "execution_count": null,
      "outputs": [
        {
          "output_type": "stream",
          "text": [
            "Yo bro\twhat happened?\n"
          ],
          "name": "stdout"
        }
      ]
    },
    {
      "cell_type": "code",
      "metadata": {
        "colab": {
          "base_uri": "https://localhost:8080/"
        },
        "id": "B6hZv5yHtIVr",
        "outputId": "dfba8b33-3f28-4ca3-f3f2-0523e8b87741"
      },
      "source": [
        "print('I am creating code') #This is a command please change it if neccesary "
      ],
      "execution_count": null,
      "outputs": [
        {
          "output_type": "stream",
          "text": [
            "I am creating code\n"
          ],
          "name": "stdout"
        }
      ]
    },
    {
      "cell_type": "markdown",
      "metadata": {
        "id": "Vl31tORVuIb4"
      },
      "source": [
        "**Math** **Opperation**\n",
        "\n"
      ]
    },
    {
      "cell_type": "code",
      "metadata": {
        "colab": {
          "base_uri": "https://localhost:8080/"
        },
        "id": "IxDaRJw_uc_z",
        "outputId": "e50af58d-7f6e-41f8-ae9d-92825039b837"
      },
      "source": [
        "print(2*123)"
      ],
      "execution_count": null,
      "outputs": [
        {
          "output_type": "stream",
          "text": [
            "246\n"
          ],
          "name": "stdout"
        }
      ]
    },
    {
      "cell_type": "code",
      "metadata": {
        "colab": {
          "base_uri": "https://localhost:8080/"
        },
        "id": "rpY0n-T4uqTc",
        "outputId": "21b6b4af-6e6d-402d-d3d3-24e796f5a573"
      },
      "source": [
        "print(18/9)"
      ],
      "execution_count": null,
      "outputs": [
        {
          "output_type": "stream",
          "text": [
            "2.0\n"
          ],
          "name": "stdout"
        }
      ]
    },
    {
      "cell_type": "code",
      "metadata": {
        "colab": {
          "base_uri": "https://localhost:8080/"
        },
        "id": "eEDJTesxutu9",
        "outputId": "39f86d4e-bf9a-4c20-911d-d72a8e86a32f"
      },
      "source": [
        "print(23-13)"
      ],
      "execution_count": null,
      "outputs": [
        {
          "output_type": "stream",
          "text": [
            "10\n"
          ],
          "name": "stdout"
        }
      ]
    },
    {
      "cell_type": "code",
      "metadata": {
        "colab": {
          "base_uri": "https://localhost:8080/"
        },
        "id": "KdZtlOkWuyOD",
        "outputId": "58db45a8-ac09-4e21-880b-dfe24e35eecb"
      },
      "source": [
        "print(127864/12)"
      ],
      "execution_count": null,
      "outputs": [
        {
          "output_type": "stream",
          "text": [
            "10655.333333333334\n"
          ],
          "name": "stdout"
        }
      ]
    },
    {
      "cell_type": "code",
      "metadata": {
        "id": "4qdlFcZPvBKU"
      },
      "source": [
        ""
      ],
      "execution_count": null,
      "outputs": []
    }
  ]
}